{
 "cells": [
  {
   "cell_type": "markdown",
   "metadata": {},
   "source": [
    "# Projeto 1 - Ciência dos Dados"
   ]
  },
  {
   "cell_type": "markdown",
   "metadata": {},
   "source": [
    "Nome: Filippo Ferraro\n",
    "\n",
    "Nome: Nicolas Byung Kwan Cho"
   ]
  },
  {
   "cell_type": "markdown",
   "metadata": {},
   "source": [
    "**Atenção:** Serão permitidos grupos de três pessoas, mas com uma rubrica mais exigente. Grupos deste tamanho precisarão fazer um questionário de avaliação de trabalho em equipe"
   ]
  },
  {
   "cell_type": "markdown",
   "metadata": {},
   "source": [
    "___\n",
    "Carregando algumas bibliotecas:"
   ]
  },
  {
   "cell_type": "code",
   "execution_count": 14,
   "metadata": {},
   "outputs": [],
   "source": [
    "%matplotlib inline\n",
    "import pandas as pd\n",
    "import matplotlib.pyplot as plt\n",
    "import numpy as np\n",
    "import os\n",
    "import emoji"
   ]
  },
  {
   "cell_type": "markdown",
   "metadata": {},
   "source": [
    "**Em `filename`, coloque o nome do seu arquivo de dados!**"
   ]
  },
  {
   "cell_type": "code",
   "execution_count": 15,
   "metadata": {
    "scrolled": false
   },
   "outputs": [
    {
     "name": "stdout",
     "output_type": "stream",
     "text": [
      "Encontrei o arquivo iPad Pro.xlsx, tudo certo para prosseguir com a prova!\n"
     ]
    }
   ],
   "source": [
    "import os\n",
    "\n",
    "filename = 'iPad Pro.xlsx'\n",
    "if filename in os.listdir():\n",
    "    print(f'Encontrei o arquivo {filename}, tudo certo para prosseguir com a prova!')\n",
    "else:\n",
    "    print(f'Não encontrei o arquivo {filename} aqui no diretório {os.getcwd()}, será que você não baixou o arquivo?')"
   ]
  },
  {
   "cell_type": "markdown",
   "metadata": {},
   "source": [
    "Carregando a base de dados com os tweets classificados como relevantes e não relevantes:"
   ]
  },
  {
   "cell_type": "code",
   "execution_count": 16,
   "metadata": {},
   "outputs": [
    {
     "data": {
      "text/html": [
       "<div>\n",
       "<style scoped>\n",
       "    .dataframe tbody tr th:only-of-type {\n",
       "        vertical-align: middle;\n",
       "    }\n",
       "\n",
       "    .dataframe tbody tr th {\n",
       "        vertical-align: top;\n",
       "    }\n",
       "\n",
       "    .dataframe thead th {\n",
       "        text-align: right;\n",
       "    }\n",
       "</style>\n",
       "<table border=\"1\" class=\"dataframe\">\n",
       "  <thead>\n",
       "    <tr style=\"text-align: right;\">\n",
       "      <th></th>\n",
       "      <th>Treinamento</th>\n",
       "      <th>Relevância</th>\n",
       "    </tr>\n",
       "  </thead>\n",
       "  <tbody>\n",
       "    <tr>\n",
       "      <th>0</th>\n",
       "      <td>novo ipad air destruidor demais. não precisa g...</td>\n",
       "      <td>1</td>\n",
       "    </tr>\n",
       "    <tr>\n",
       "      <th>1</th>\n",
       "      <td>@beniiciojr @elizabethrsic ih, facil é só eu p...</td>\n",
       "      <td>0</td>\n",
       "    </tr>\n",
       "    <tr>\n",
       "      <th>2</th>\n",
       "      <td>o negócio é comprar o ipad air preto e dizer q...</td>\n",
       "      <td>1</td>\n",
       "    </tr>\n",
       "    <tr>\n",
       "      <th>3</th>\n",
       "      <td>vídeo feito com realidade aumentada, alguma su...</td>\n",
       "      <td>1</td>\n",
       "    </tr>\n",
       "    <tr>\n",
       "      <th>4</th>\n",
       "      <td>@drudu mas migo, n é meio parecido com o últim...</td>\n",
       "      <td>1</td>\n",
       "    </tr>\n",
       "  </tbody>\n",
       "</table>\n",
       "</div>"
      ],
      "text/plain": [
       "                                         Treinamento  Relevância\n",
       "0  novo ipad air destruidor demais. não precisa g...           1\n",
       "1  @beniiciojr @elizabethrsic ih, facil é só eu p...           0\n",
       "2  o negócio é comprar o ipad air preto e dizer q...           1\n",
       "3  vídeo feito com realidade aumentada, alguma su...           1\n",
       "4  @drudu mas migo, n é meio parecido com o últim...           1"
      ]
     },
     "execution_count": 16,
     "metadata": {},
     "output_type": "execute_result"
    }
   ],
   "source": [
    "train = pd.read_excel(filename)\n",
    "train.head(5)"
   ]
  },
  {
   "cell_type": "code",
   "execution_count": 17,
   "metadata": {},
   "outputs": [
    {
     "data": {
      "text/html": [
       "<div>\n",
       "<style scoped>\n",
       "    .dataframe tbody tr th:only-of-type {\n",
       "        vertical-align: middle;\n",
       "    }\n",
       "\n",
       "    .dataframe tbody tr th {\n",
       "        vertical-align: top;\n",
       "    }\n",
       "\n",
       "    .dataframe thead th {\n",
       "        text-align: right;\n",
       "    }\n",
       "</style>\n",
       "<table border=\"1\" class=\"dataframe\">\n",
       "  <thead>\n",
       "    <tr style=\"text-align: right;\">\n",
       "      <th></th>\n",
       "      <th>Teste</th>\n",
       "      <th>Relevância</th>\n",
       "    </tr>\n",
       "  </thead>\n",
       "  <tbody>\n",
       "    <tr>\n",
       "      <th>0</th>\n",
       "      <td>rt @guiqis: novo ipad air: layout do ipad pro ...</td>\n",
       "      <td>1</td>\n",
       "    </tr>\n",
       "    <tr>\n",
       "      <th>1</th>\n",
       "      <td>novas cores do novo airpad air.\\n\\n- novo proc...</td>\n",
       "      <td>1</td>\n",
       "    </tr>\n",
       "    <tr>\n",
       "      <th>2</th>\n",
       "      <td>eu só quero um ipad pro</td>\n",
       "      <td>1</td>\n",
       "    </tr>\n",
       "    <tr>\n",
       "      <th>3</th>\n",
       "      <td>usb-c estará presente no novo ipad air.\\n\\num ...</td>\n",
       "      <td>1</td>\n",
       "    </tr>\n",
       "    <tr>\n",
       "      <th>4</th>\n",
       "      <td>o design é baseado no ipad pro de 2018, soment...</td>\n",
       "      <td>1</td>\n",
       "    </tr>\n",
       "  </tbody>\n",
       "</table>\n",
       "</div>"
      ],
      "text/plain": [
       "                                               Teste  Relevância\n",
       "0  rt @guiqis: novo ipad air: layout do ipad pro ...           1\n",
       "1  novas cores do novo airpad air.\\n\\n- novo proc...           1\n",
       "2                            eu só quero um ipad pro           1\n",
       "3  usb-c estará presente no novo ipad air.\\n\\num ...           1\n",
       "4  o design é baseado no ipad pro de 2018, soment...           1"
      ]
     },
     "execution_count": 17,
     "metadata": {},
     "output_type": "execute_result"
    }
   ],
   "source": [
    "test = pd.read_excel(filename, sheet_name = 'Teste')\n",
    "test.head(5)"
   ]
  },
  {
   "cell_type": "markdown",
   "metadata": {},
   "source": [
    "___\n",
    "## Classificador automático de sentimento\n"
   ]
  },
  {
   "cell_type": "markdown",
   "metadata": {},
   "source": [
    "Faça aqui uma descrição do seu produto e o que considerou como relevante ou não relevante na classificação dos tweets.\n",
    "\n",
    "O iPad Pro é um dispositivo do tipo tablet desenvolvido pela Apple. Por ser um produto de uma marca renomada e ter alto desempeno, o iPad Pro apresenta um valor elevado e não é um dispositivo acessível a todos.\n",
    "Portanto, tweets que mencionavam o preço do produto, design, utilidade e especificações técnicas, foram considerados relevantes."
   ]
  },
  {
   "cell_type": "markdown",
   "metadata": {},
   "source": [
    "___\n",
    "### Montando um Classificador Naive-Bayes\n",
    "\n",
    "Considerando apenas as mensagens da planilha Treinamento, ensine  seu classificador."
   ]
  },
  {
   "cell_type": "code",
   "execution_count": 18,
   "metadata": {},
   "outputs": [],
   "source": [
    "import re \n",
    "\n",
    "def limpador(texto):\n",
    "\n",
    "    pontuacao = '[!-.:?;@\\n@_“”]'\n",
    "    pattern = re.compile(pontuacao)\n",
    "    subs = re.sub(pattern, '', texto)\n",
    "    \n",
    "    #separa palavra de emoji e emoji de emoji\n",
    "    a = False\n",
    "    for e in subs:\n",
    "        if e in emoji.UNICODE_EMOJI:\n",
    "            limpo = subs.replace(e, ' ' + e + ' ')\n",
    "            a = True\n",
    "        \n",
    "    \n",
    "    if a == True:\n",
    "        return limpo\n",
    "    else:\n",
    "        return subs"
   ]
  },
  {
   "cell_type": "code",
   "execution_count": 19,
   "metadata": {
    "scrolled": true
   },
   "outputs": [],
   "source": [
    "#limpando os tweets\n",
    "train.Treinamento.astype(str)\n",
    "train.Treinamento = train.Treinamento.apply(limpador)"
   ]
  },
  {
   "cell_type": "code",
   "execution_count": 20,
   "metadata": {
    "scrolled": true
   },
   "outputs": [],
   "source": [
    "#colocando as palavras dos tweets relevantes em uma serie pd\n",
    "tweets_relevantes = train.loc[train.Relevância == 1, : ]\n",
    "todos_tweets_relevantes = ''\n",
    "for e in tweets_relevantes.Treinamento:\n",
    "    todos_tweets_relevantes += e\n",
    "\n",
    "lista_tweets_relevantes = todos_tweets_relevantes.split()\n",
    "series_tweets_relevantes = pd.Series(lista_tweets_relevantes)"
   ]
  },
  {
   "cell_type": "code",
   "execution_count": 21,
   "metadata": {},
   "outputs": [],
   "source": [
    "#suavizacao de laplace\n",
    "palavras_desconhecidas = 1000000\n",
    "bonus = 0.5"
   ]
  },
  {
   "cell_type": "code",
   "execution_count": 22,
   "metadata": {
    "scrolled": true
   },
   "outputs": [],
   "source": [
    "#frequencias relativas das palavras em tweets relevantes (com suavizacao de laplace)\n",
    "freq_tweets_relevantes = series_tweets_relevantes.value_counts() \n",
    "total_relevantes = sum(freq_tweets_relevantes) + palavras_desconhecidas*bonus\n",
    "\n",
    "freq_rel_tweets_relevantes = (freq_tweets_relevantes+bonus) / total_relevantes"
   ]
  },
  {
   "cell_type": "code",
   "execution_count": 23,
   "metadata": {
    "scrolled": true
   },
   "outputs": [],
   "source": [
    "#colocando as palavras dos tweets irrelevantes em uma serie pd\n",
    "tweets_irrelevantes = train.loc[train.Relevância == 0, : ]\n",
    "todos_tweets_irrelevantes = ''\n",
    "for e in tweets_irrelevantes.Treinamento:\n",
    "    todos_tweets_irrelevantes += e\n",
    "\n",
    "lista_tweets_irrelevantes = todos_tweets_irrelevantes.split()\n",
    "series_tweets_irrelevantes = pd.Series(lista_tweets_irrelevantes)"
   ]
  },
  {
   "cell_type": "code",
   "execution_count": 24,
   "metadata": {
    "scrolled": true
   },
   "outputs": [],
   "source": [
    "#frequencias relativas das palavras em tweets irrelevantes (com suavizacao de laplace)\n",
    "freq_tweets_irrelevantes = series_tweets_irrelevantes.value_counts() \n",
    "total_irrelevantes = sum(freq_tweets_irrelevantes) + palavras_desconhecidas*bonus\n",
    "\n",
    "freq_rel_tweets_irrelevantes = (freq_tweets_irrelevantes+bonus) / total_irrelevantes"
   ]
  },
  {
   "cell_type": "code",
   "execution_count": 25,
   "metadata": {},
   "outputs": [],
   "source": [
    "#desenvolvendo o classificador\n",
    "def classificador(tweet):\n",
    "    lista_palavras = tweet.split()\n",
    "    \n",
    "    P_tweet_dado_relevante = 1\n",
    "    P_tweet_dado_irrelevante = 1\n",
    "    \n",
    "    for palavra in lista_palavras:\n",
    "        if palavra in freq_rel_tweets_relevantes:\n",
    "            P_tweet_dado_relevante *= freq_rel_tweets_relevantes[palavra]\n",
    "        else:\n",
    "            P_tweet_dado_relevante *= bonus/total_relevantes\n",
    "            \n",
    "        if palavra in freq_rel_tweets_irrelevantes:\n",
    "            P_tweet_dado_irrelevante *= freq_rel_tweets_irrelevantes[palavra]\n",
    "        else:\n",
    "            P_tweet_dado_irrelevante *= bonus/total_irrelevantes\n",
    "            \n",
    "    P_relevante = len(tweets_relevantes)/len(train)\n",
    "    P_irrelevante = len(tweets_irrelevantes)/len(train)\n",
    "    \n",
    "    P_relevante_dado_tweet = P_tweet_dado_relevante * P_relevante\n",
    "    P_irrelevante_dado_tweet = P_tweet_dado_irrelevante * P_irrelevante\n",
    "    \n",
    "    \n",
    "    \n",
    "    if P_relevante_dado_tweet > P_irrelevante_dado_tweet:\n",
    "        diferenca = (P_relevante_dado_tweet-P_irrelevante_dado_tweet)\n",
    "        if diferenca > 10e-60:\n",
    "            return 5\n",
    "        elif diferenca <10e-200:\n",
    "            return 3\n",
    "        else:\n",
    "            return 4\n",
    "    else:\n",
    "        diferenca = (P_irrelevante_dado_tweet-P_relevante_dado_tweet)\n",
    "        if diferenca > 10e-60:\n",
    "            return 1\n",
    "        elif diferenca <10e-200:\n",
    "            return 3\n",
    "        else:\n",
    "            return 2"
   ]
  },
  {
   "cell_type": "markdown",
   "metadata": {},
   "source": [
    "___\n",
    "### Verificando a performance do Classificador\n",
    "\n",
    "Agora você deve testar o seu classificador com a base de Testes."
   ]
  },
  {
   "cell_type": "code",
   "execution_count": 26,
   "metadata": {
    "scrolled": true
   },
   "outputs": [
    {
     "data": {
      "text/html": [
       "<div>\n",
       "<style scoped>\n",
       "    .dataframe tbody tr th:only-of-type {\n",
       "        vertical-align: middle;\n",
       "    }\n",
       "\n",
       "    .dataframe tbody tr th {\n",
       "        vertical-align: top;\n",
       "    }\n",
       "\n",
       "    .dataframe thead th {\n",
       "        text-align: right;\n",
       "    }\n",
       "</style>\n",
       "<table border=\"1\" class=\"dataframe\">\n",
       "  <thead>\n",
       "    <tr style=\"text-align: right;\">\n",
       "      <th></th>\n",
       "      <th>Teste</th>\n",
       "      <th>Relevância</th>\n",
       "    </tr>\n",
       "  </thead>\n",
       "  <tbody>\n",
       "    <tr>\n",
       "      <th>0</th>\n",
       "      <td>rt guiqis novo ipad air layout do ipad pro com...</td>\n",
       "      <td>1</td>\n",
       "    </tr>\n",
       "    <tr>\n",
       "      <th>1</th>\n",
       "      <td>novas cores do novo airpad air novo processado...</td>\n",
       "      <td>1</td>\n",
       "    </tr>\n",
       "    <tr>\n",
       "      <th>2</th>\n",
       "      <td>eu só quero um ipad pro</td>\n",
       "      <td>1</td>\n",
       "    </tr>\n",
       "    <tr>\n",
       "      <th>3</th>\n",
       "      <td>usbc estará presente no novo ipad airum ipad m...</td>\n",
       "      <td>1</td>\n",
       "    </tr>\n",
       "    <tr>\n",
       "      <th>4</th>\n",
       "      <td>o design é baseado no ipad pro de 2018 somente...</td>\n",
       "      <td>1</td>\n",
       "    </tr>\n",
       "  </tbody>\n",
       "</table>\n",
       "</div>"
      ],
      "text/plain": [
       "                                               Teste  Relevância\n",
       "0  rt guiqis novo ipad air layout do ipad pro com...           1\n",
       "1  novas cores do novo airpad air novo processado...           1\n",
       "2                            eu só quero um ipad pro           1\n",
       "3  usbc estará presente no novo ipad airum ipad m...           1\n",
       "4  o design é baseado no ipad pro de 2018 somente...           1"
      ]
     },
     "execution_count": 26,
     "metadata": {},
     "output_type": "execute_result"
    }
   ],
   "source": [
    "#limpando os tweets\n",
    "test.Teste.astype(str)\n",
    "test.Teste = test.Teste.apply(limpador)\n",
    "test.head(5)"
   ]
  },
  {
   "cell_type": "code",
   "execution_count": 27,
   "metadata": {
    "scrolled": true
   },
   "outputs": [],
   "source": [
    "lista_classificador = []\n",
    "for tweet in test.Teste:\n",
    "    lista_classificador.append(classificador(tweet))\n",
    "    \n",
    "series_classificador = pd.Series(lista_classificador)"
   ]
  },
  {
   "cell_type": "code",
   "execution_count": 28,
   "metadata": {
    "scrolled": true
   },
   "outputs": [],
   "source": [
    "test['Classificador'] = series_classificador\n",
    "test['Classificador'] = test['Classificador'].astype('category')\n",
    "test['Classificador'].cat.categories = ['muito irrelevante','irrelevante','neutro','relevante','muito relevante']"
   ]
  },
  {
   "cell_type": "code",
   "execution_count": 29,
   "metadata": {
    "scrolled": true
   },
   "outputs": [
    {
     "data": {
      "text/html": [
       "<div>\n",
       "<style scoped>\n",
       "    .dataframe tbody tr th:only-of-type {\n",
       "        vertical-align: middle;\n",
       "    }\n",
       "\n",
       "    .dataframe tbody tr th {\n",
       "        vertical-align: top;\n",
       "    }\n",
       "\n",
       "    .dataframe thead th {\n",
       "        text-align: right;\n",
       "    }\n",
       "</style>\n",
       "<table border=\"1\" class=\"dataframe\">\n",
       "  <thead>\n",
       "    <tr style=\"text-align: right;\">\n",
       "      <th>Classificador</th>\n",
       "      <th>muito irrelevante</th>\n",
       "      <th>irrelevante</th>\n",
       "      <th>neutro</th>\n",
       "      <th>relevante</th>\n",
       "      <th>muito relevante</th>\n",
       "    </tr>\n",
       "    <tr>\n",
       "      <th>Relevância</th>\n",
       "      <th></th>\n",
       "      <th></th>\n",
       "      <th></th>\n",
       "      <th></th>\n",
       "      <th></th>\n",
       "    </tr>\n",
       "  </thead>\n",
       "  <tbody>\n",
       "    <tr>\n",
       "      <th>0</th>\n",
       "      <td>0.029851</td>\n",
       "      <td>0.134328</td>\n",
       "      <td>0.067164</td>\n",
       "      <td>0.149254</td>\n",
       "      <td>0.044776</td>\n",
       "    </tr>\n",
       "    <tr>\n",
       "      <th>1</th>\n",
       "      <td>0.014925</td>\n",
       "      <td>0.014925</td>\n",
       "      <td>0.052239</td>\n",
       "      <td>0.350746</td>\n",
       "      <td>0.141791</td>\n",
       "    </tr>\n",
       "  </tbody>\n",
       "</table>\n",
       "</div>"
      ],
      "text/plain": [
       "Classificador  muito irrelevante  irrelevante    neutro  relevante  \\\n",
       "Relevância                                                           \n",
       "0                       0.029851     0.134328  0.067164   0.149254   \n",
       "1                       0.014925     0.014925  0.052239   0.350746   \n",
       "\n",
       "Classificador  muito relevante  \n",
       "Relevância                      \n",
       "0                     0.044776  \n",
       "1                     0.141791  "
      ]
     },
     "execution_count": 29,
     "metadata": {},
     "output_type": "execute_result"
    }
   ],
   "source": [
    "comparacao = pd.crosstab(test.Relevância, test.Classificador, normalize = 'all')\n",
    "comparacao"
   ]
  },
  {
   "cell_type": "code",
   "execution_count": 30,
   "metadata": {},
   "outputs": [
    {
     "name": "stdout",
     "output_type": "stream",
     "text": [
      "Verdadeiros positivos: 0.4925373134328358\n",
      "Falsos positivos: 0.19402985074626863\n",
      "Verdadeiros negativos: 0.16417910447761194\n",
      "Falsos_negativos: 0.029850746268656716\n",
      "Neutros: 0.11940298507462686\n"
     ]
    }
   ],
   "source": [
    "verdadeiros_positivos = comparacao.iloc[1]['relevante'] + comparacao.iloc[1]['muito relevante']\n",
    "falsos_positivos = comparacao.iloc[0]['relevante'] + comparacao.iloc[0]['muito relevante']\n",
    "verdadeiros_negativos = comparacao.iloc[0]['muito irrelevante'] + comparacao.iloc[0]['irrelevante']\n",
    "falsos_negativos = comparacao.iloc[1]['muito irrelevante'] + comparacao.iloc[1]['irrelevante']\n",
    "neutros = comparacao.iloc[0]['neutro'] + comparacao.iloc[1]['neutro']\n",
    "\n",
    "print('Verdadeiros positivos:', verdadeiros_positivos)\n",
    "print('Falsos positivos:', falsos_positivos)\n",
    "print('Verdadeiros negativos:', verdadeiros_negativos)\n",
    "print('Falsos_negativos:', falsos_negativos)\n",
    "print('Neutros:', neutros)"
   ]
  },
  {
   "cell_type": "code",
   "execution_count": 31,
   "metadata": {},
   "outputs": [
    {
     "name": "stdout",
     "output_type": "stream",
     "text": [
      "Acertos: 0.6567164179104478\n",
      "Erros: 0.22388059701492535\n",
      "Neutros: 0.11940298507462686\n"
     ]
    }
   ],
   "source": [
    "acertos = verdadeiros_negativos + verdadeiros_positivos\n",
    "erros = falsos_negativos + falsos_positivos\n",
    "print('Acertos:', acertos)\n",
    "print('Erros:', erros)\n",
    "print('Neutros:', neutros)"
   ]
  },
  {
   "cell_type": "markdown",
   "metadata": {},
   "source": [
    "___\n",
    "### Concluindo"
   ]
  },
  {
   "cell_type": "markdown",
   "metadata": {},
   "source": [
    "-Uma parte considerável dos tweets com relevância 0 foi classificada como relevante ou muito relevante, já os tweets com relevância 1 seguiram de acordo com o esperado e apenas uma pequena porcentagem foi classificada como muito irrelevante. Mas, observando a performance do classificador, temos uma taxa de erro de apenas 22,39%.\n",
    "\n",
    "Alguns fatores que podem ter dificultado a classificação:\n",
    "* O fato do produto apresentar a palavra 'pro' no nome, pode ter afetado o desempenho do classificador por confundir com a junção da preposição 'para' com o pronome 'o' ('para'+'o' = 'pro').\n",
    "* Outros produtos da Apple possuem 'pro' no nome (como 'iPhone Pro').\n",
    "* Erros de ortografia nos tweeets."
   ]
  },
  {
   "cell_type": "markdown",
   "metadata": {},
   "source": [
    "-Mensagens que apresentam sarcasmo ou dupla negação são entendidas pelo classificador como o sentido literal das palavras e não seu oposto. Assim, tweets que desejam expressar algo irrelevante mas utiliza palavras relevantes são classificados como relevantes."
   ]
  },
  {
   "cell_type": "markdown",
   "metadata": {},
   "source": [
    "-Este trabalho deve continuar sendo financiado pois, por enquanto, o classificador está funcionando apenas com uma base de treinamento previamente classificada e já apresenta bons resultados. Visto isso, planejamos aperfeiçoar e preparar o projeto para que seja capaz de alimentar sua base automaticamente usando o próprio classificador, aplicado a novos tweets (trabalhar com dados não supervisionados)."
   ]
  },
  {
   "cell_type": "markdown",
   "metadata": {},
   "source": [
    "#### Complementando"
   ]
  },
  {
   "cell_type": "markdown",
   "metadata": {},
   "source": [
    "-O classificador Naïve-Bayes é uma ferramenta poderosa considerando sua simplicidade, mas possui limitações, principalmente pelo fato de considerar independência entre os eventos, sendo bem improvável no mundo real. Contudo, é um bom algoritmo para as seguintes aplicações: \n",
    "* Classificador de emails: spam ou não spam\n",
    "* Classificador de sexo por meio de características pessoais (tamanho, peso, etc...)\n",
    "* Atribuir diagnósticos médicos baseados em sintomas"
   ]
  },
  {
   "cell_type": "markdown",
   "metadata": {},
   "source": [
    "-Nao se pode utilizar o próprio classificador para gerar mais amostras de treinamento, pois a precisão do classificador não é perfeita, podendo classificar dados de forma errônea, alimentando a própria base de treinamento com informações erradas e comprometendo o classificador."
   ]
  },
  {
   "cell_type": "markdown",
   "metadata": {},
   "source": [
    "___\n",
    "## Aperfeiçoamento:\n",
    "\n",
    "Os trabalhos vão evoluir em conceito dependendo da quantidade de itens avançados:\n",
    "\n",
    "* Limpar: \\n, :, \", ', (, ), etc SEM remover emojis\n",
    "* Corrigir separação de espaços entre palavras e emojis ou entre emojis e emojis\n",
    "* Propor outras limpezas e transformações que não afetem a qualidade da informação ou classificação\n",
    "* Criar categorias intermediárias de relevância baseadas na probabilidade: ex.: muito relevante, relevante, neutro, irrelevante, muito irrelevante (3 categorias: C, mais categorias conta para B)\n",
    "* Explicar por que não posso usar o próprio classificador para gerar mais amostras de treinamento\n",
    "* Propor diferentes cenários para Naïve Bayes fora do contexto do projeto\n",
    "* Sugerir e explicar melhorias reais com indicações concretas de como implementar (indicar como fazer e indicar material de pesquisa)\n",
    "* Montar um dashboard que realiza análise de sentimento e visualiza estes dados"
   ]
  },
  {
   "cell_type": "markdown",
   "metadata": {},
   "source": [
    "___\n",
    "## Referências"
   ]
  },
  {
   "cell_type": "markdown",
   "metadata": {},
   "source": [
    "[Naive Bayes and Text Classification](https://arxiv.org/pdf/1410.5329.pdf)  **Mais completo**\n",
    "\n",
    "[A practical explanation of a Naive Bayes Classifier](https://monkeylearn.com/blog/practical-explanation-naive-bayes-classifier/) **Mais simples**"
   ]
  },
  {
   "cell_type": "code",
   "execution_count": null,
   "metadata": {},
   "outputs": [],
   "source": []
  }
 ],
 "metadata": {
  "kernelspec": {
   "display_name": "Python 3",
   "language": "python",
   "name": "python3"
  },
  "language_info": {
   "codemirror_mode": {
    "name": "ipython",
    "version": 3
   },
   "file_extension": ".py",
   "mimetype": "text/x-python",
   "name": "python",
   "nbconvert_exporter": "python",
   "pygments_lexer": "ipython3",
   "version": "3.7.3"
  }
 },
 "nbformat": 4,
 "nbformat_minor": 4
}
