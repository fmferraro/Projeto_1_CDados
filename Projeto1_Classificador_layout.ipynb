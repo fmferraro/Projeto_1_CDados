{
 "cells": [
  {
   "cell_type": "markdown",
   "metadata": {},
   "source": [
    "# Projeto 1 - Ciência dos Dados"
   ]
  },
  {
   "cell_type": "markdown",
   "metadata": {},
   "source": [
    "Nome: Filippo Ferraro\n",
    "\n",
    "Nome: Nicolas Byung Kwan Cho"
   ]
  },
  {
   "cell_type": "markdown",
   "metadata": {},
   "source": [
    "**Atenção:** Serão permitidos grupos de três pessoas, mas com uma rubrica mais exigente. Grupos deste tamanho precisarão fazer um questionário de avaliação de trabalho em equipe"
   ]
  },
  {
   "cell_type": "markdown",
   "metadata": {},
   "source": [
    "___\n",
    "Carregando algumas bibliotecas:"
   ]
  },
  {
   "cell_type": "code",
   "execution_count": 1,
   "metadata": {},
   "outputs": [],
   "source": [
    "%matplotlib inline\n",
    "import pandas as pd\n",
    "import matplotlib.pyplot as plt\n",
    "import numpy as np\n",
    "import os"
   ]
  },
  {
   "cell_type": "markdown",
   "metadata": {},
   "source": [
    "**Em `filename`, coloque o nome do seu arquivo de dados!**"
   ]
  },
  {
   "cell_type": "code",
   "execution_count": 2,
   "metadata": {
    "scrolled": false
   },
   "outputs": [
    {
     "name": "stdout",
     "output_type": "stream",
     "text": [
      "Encontrei o arquivo iPad Pro.xlsx, tudo certo para prosseguir com a prova!\n"
     ]
    }
   ],
   "source": [
    "import os\n",
    "\n",
    "filename = 'iPad Pro.xlsx'\n",
    "if filename in os.listdir():\n",
    "    print(f'Encontrei o arquivo {filename}, tudo certo para prosseguir com a prova!')\n",
    "else:\n",
    "    print(f'Não encontrei o arquivo {filename} aqui no diretório {os.getcwd()}, será que você não baixou o arquivo?')"
   ]
  },
  {
   "cell_type": "markdown",
   "metadata": {},
   "source": [
    "Carregando a base de dados com os tweets classificados como relevantes e não relevantes:"
   ]
  },
  {
   "cell_type": "code",
   "execution_count": 3,
   "metadata": {},
   "outputs": [
    {
     "data": {
      "text/html": [
       "<div>\n",
       "<style scoped>\n",
       "    .dataframe tbody tr th:only-of-type {\n",
       "        vertical-align: middle;\n",
       "    }\n",
       "\n",
       "    .dataframe tbody tr th {\n",
       "        vertical-align: top;\n",
       "    }\n",
       "\n",
       "    .dataframe thead th {\n",
       "        text-align: right;\n",
       "    }\n",
       "</style>\n",
       "<table border=\"1\" class=\"dataframe\">\n",
       "  <thead>\n",
       "    <tr style=\"text-align: right;\">\n",
       "      <th></th>\n",
       "      <th>Treinamento</th>\n",
       "      <th>Relevância</th>\n",
       "    </tr>\n",
       "  </thead>\n",
       "  <tbody>\n",
       "    <tr>\n",
       "      <th>0</th>\n",
       "      <td>novo ipad air destruidor demais. não precisa g...</td>\n",
       "      <td>1</td>\n",
       "    </tr>\n",
       "    <tr>\n",
       "      <th>1</th>\n",
       "      <td>@beniiciojr @elizabethrsic ih, facil é só eu p...</td>\n",
       "      <td>0</td>\n",
       "    </tr>\n",
       "    <tr>\n",
       "      <th>2</th>\n",
       "      <td>o negócio é comprar o ipad air preto e dizer q...</td>\n",
       "      <td>1</td>\n",
       "    </tr>\n",
       "    <tr>\n",
       "      <th>3</th>\n",
       "      <td>vídeo feito com realidade aumentada, alguma su...</td>\n",
       "      <td>1</td>\n",
       "    </tr>\n",
       "    <tr>\n",
       "      <th>4</th>\n",
       "      <td>@drudu mas migo, n é meio parecido com o últim...</td>\n",
       "      <td>1</td>\n",
       "    </tr>\n",
       "  </tbody>\n",
       "</table>\n",
       "</div>"
      ],
      "text/plain": [
       "                                         Treinamento  Relevância\n",
       "0  novo ipad air destruidor demais. não precisa g...           1\n",
       "1  @beniiciojr @elizabethrsic ih, facil é só eu p...           0\n",
       "2  o negócio é comprar o ipad air preto e dizer q...           1\n",
       "3  vídeo feito com realidade aumentada, alguma su...           1\n",
       "4  @drudu mas migo, n é meio parecido com o últim...           1"
      ]
     },
     "execution_count": 3,
     "metadata": {},
     "output_type": "execute_result"
    }
   ],
   "source": [
    "train = pd.read_excel(filename)\n",
    "train.head(5)"
   ]
  },
  {
   "cell_type": "code",
   "execution_count": 4,
   "metadata": {},
   "outputs": [
    {
     "data": {
      "text/html": [
       "<div>\n",
       "<style scoped>\n",
       "    .dataframe tbody tr th:only-of-type {\n",
       "        vertical-align: middle;\n",
       "    }\n",
       "\n",
       "    .dataframe tbody tr th {\n",
       "        vertical-align: top;\n",
       "    }\n",
       "\n",
       "    .dataframe thead th {\n",
       "        text-align: right;\n",
       "    }\n",
       "</style>\n",
       "<table border=\"1\" class=\"dataframe\">\n",
       "  <thead>\n",
       "    <tr style=\"text-align: right;\">\n",
       "      <th></th>\n",
       "      <th>Teste</th>\n",
       "      <th>Relevância</th>\n",
       "    </tr>\n",
       "  </thead>\n",
       "  <tbody>\n",
       "    <tr>\n",
       "      <th>0</th>\n",
       "      <td>rt @guiqis: novo ipad air: layout do ipad pro ...</td>\n",
       "      <td>1</td>\n",
       "    </tr>\n",
       "    <tr>\n",
       "      <th>1</th>\n",
       "      <td>novas cores do novo airpad air.\\n\\n- novo proc...</td>\n",
       "      <td>1</td>\n",
       "    </tr>\n",
       "    <tr>\n",
       "      <th>2</th>\n",
       "      <td>eu só quero um ipad pro</td>\n",
       "      <td>1</td>\n",
       "    </tr>\n",
       "    <tr>\n",
       "      <th>3</th>\n",
       "      <td>usb-c estará presente no novo ipad air.\\n\\num ...</td>\n",
       "      <td>1</td>\n",
       "    </tr>\n",
       "    <tr>\n",
       "      <th>4</th>\n",
       "      <td>o design é baseado no ipad pro de 2018, soment...</td>\n",
       "      <td>1</td>\n",
       "    </tr>\n",
       "  </tbody>\n",
       "</table>\n",
       "</div>"
      ],
      "text/plain": [
       "                                               Teste  Relevância\n",
       "0  rt @guiqis: novo ipad air: layout do ipad pro ...           1\n",
       "1  novas cores do novo airpad air.\\n\\n- novo proc...           1\n",
       "2                            eu só quero um ipad pro           1\n",
       "3  usb-c estará presente no novo ipad air.\\n\\num ...           1\n",
       "4  o design é baseado no ipad pro de 2018, soment...           1"
      ]
     },
     "execution_count": 4,
     "metadata": {},
     "output_type": "execute_result"
    }
   ],
   "source": [
    "test = pd.read_excel(filename, sheet_name = 'Teste')\n",
    "test.head(5)"
   ]
  },
  {
   "cell_type": "markdown",
   "metadata": {},
   "source": [
    "___\n",
    "## Classificador automático de sentimento\n"
   ]
  },
  {
   "cell_type": "markdown",
   "metadata": {},
   "source": [
    "Faça aqui uma descrição do seu produto e o que considerou como relevante ou não relevante na classificação dos tweets.\n",
    "\n",
    "O iPad Pro é um dispositivo do tipo tablet desenvolvido pela Apple. Por ser um produto de uma marca renomada e ter alto desempeno, o iPad Pro apresenta um valor elevado e não é um dispositivo acessível a todos.\n",
    "Portanto, tweets que mencionavam o preço do produto, design, utilidade e especificações técnicas, foram considerados relevantes."
   ]
  },
  {
   "cell_type": "markdown",
   "metadata": {},
   "source": [
    "___\n",
    "### Montando um Classificador Naive-Bayes\n",
    "\n",
    "Considerando apenas as mensagens da planilha Treinamento, ensine  seu classificador."
   ]
  },
  {
   "cell_type": "code",
   "execution_count": 19,
   "metadata": {},
   "outputs": [],
   "source": [
    "import re \n",
    "\n",
    "\n",
    "def cleanup(text):\n",
    "    \"\"\"\n",
    "        Função de limpeza muito simples que troca alguns sinais básicos por espaços\n",
    "    \"\"\"\n",
    "    #import string\n",
    "    punctuation = '[!-.:?;@\\n@]' # Note que os sinais [] são delimitadores de um conjunto.\n",
    "    pattern = re.compile(punctuation)\n",
    "    text_subbed = re.sub(pattern, '', text)\n",
    "    return text_subbed\n",
    "    "
   ]
  },
  {
   "cell_type": "code",
   "execution_count": 20,
   "metadata": {
    "scrolled": true
   },
   "outputs": [
    {
     "data": {
      "text/html": [
       "<div>\n",
       "<style scoped>\n",
       "    .dataframe tbody tr th:only-of-type {\n",
       "        vertical-align: middle;\n",
       "    }\n",
       "\n",
       "    .dataframe tbody tr th {\n",
       "        vertical-align: top;\n",
       "    }\n",
       "\n",
       "    .dataframe thead th {\n",
       "        text-align: right;\n",
       "    }\n",
       "</style>\n",
       "<table border=\"1\" class=\"dataframe\">\n",
       "  <thead>\n",
       "    <tr style=\"text-align: right;\">\n",
       "      <th></th>\n",
       "      <th>Treinamento</th>\n",
       "      <th>Relevância</th>\n",
       "    </tr>\n",
       "  </thead>\n",
       "  <tbody>\n",
       "    <tr>\n",
       "      <th>0</th>\n",
       "      <td>novo ipad air destruidor demais não precisa ga...</td>\n",
       "      <td>1</td>\n",
       "    </tr>\n",
       "    <tr>\n",
       "      <th>1</th>\n",
       "      <td>beniiciojr elizabethrsic ih facil é só eu parc...</td>\n",
       "      <td>0</td>\n",
       "    </tr>\n",
       "    <tr>\n",
       "      <th>2</th>\n",
       "      <td>o negócio é comprar o ipad air preto e dizer q...</td>\n",
       "      <td>1</td>\n",
       "    </tr>\n",
       "    <tr>\n",
       "      <th>3</th>\n",
       "      <td>vídeo feito com realidade aumentada alguma sug...</td>\n",
       "      <td>1</td>\n",
       "    </tr>\n",
       "    <tr>\n",
       "      <th>4</th>\n",
       "      <td>drudu mas migo n é meio parecido com o último ...</td>\n",
       "      <td>1</td>\n",
       "    </tr>\n",
       "    <tr>\n",
       "      <th>...</th>\n",
       "      <td>...</td>\n",
       "      <td>...</td>\n",
       "    </tr>\n",
       "    <tr>\n",
       "      <th>495</th>\n",
       "      <td>eu tinha feito umaudio todo lindopro 3m da joa...</td>\n",
       "      <td>0</td>\n",
       "    </tr>\n",
       "    <tr>\n",
       "      <th>496</th>\n",
       "      <td>alguem me da 8 mil pra eu poder comprar um ipa...</td>\n",
       "      <td>1</td>\n",
       "    </tr>\n",
       "    <tr>\n",
       "      <th>497</th>\n",
       "      <td>rt filipeesposito o reajuste de preços na appl...</td>\n",
       "      <td>1</td>\n",
       "    </tr>\n",
       "    <tr>\n",
       "      <th>498</th>\n",
       "      <td>iphone 11 não quero o 12 consigo mais votos de...</td>\n",
       "      <td>0</td>\n",
       "    </tr>\n",
       "    <tr>\n",
       "      <th>499</th>\n",
       "      <td>ipad air com o mesmo design do ipad pro wtf</td>\n",
       "      <td>1</td>\n",
       "    </tr>\n",
       "  </tbody>\n",
       "</table>\n",
       "<p>500 rows × 2 columns</p>\n",
       "</div>"
      ],
      "text/plain": [
       "                                           Treinamento  Relevância\n",
       "0    novo ipad air destruidor demais não precisa ga...           1\n",
       "1    beniiciojr elizabethrsic ih facil é só eu parc...           0\n",
       "2    o negócio é comprar o ipad air preto e dizer q...           1\n",
       "3    vídeo feito com realidade aumentada alguma sug...           1\n",
       "4    drudu mas migo n é meio parecido com o último ...           1\n",
       "..                                                 ...         ...\n",
       "495  eu tinha feito umaudio todo lindopro 3m da joa...           0\n",
       "496  alguem me da 8 mil pra eu poder comprar um ipa...           1\n",
       "497  rt filipeesposito o reajuste de preços na appl...           1\n",
       "498  iphone 11 não quero o 12 consigo mais votos de...           0\n",
       "499        ipad air com o mesmo design do ipad pro wtf           1\n",
       "\n",
       "[500 rows x 2 columns]"
      ]
     },
     "execution_count": 20,
     "metadata": {},
     "output_type": "execute_result"
    }
   ],
   "source": [
    "#limpando os tweets\n",
    "train.Treinamento.astype(str)\n",
    "train.Treinamento = train.Treinamento.apply(cleanup)\n",
    "train"
   ]
  },
  {
   "cell_type": "code",
   "execution_count": 21,
   "metadata": {
    "scrolled": true
   },
   "outputs": [
    {
     "data": {
      "text/plain": [
       "0             novo\n",
       "1             ipad\n",
       "2              air\n",
       "3       destruidor\n",
       "4           demais\n",
       "           ...    \n",
       "5987        design\n",
       "5988            do\n",
       "5989          ipad\n",
       "5990           pro\n",
       "5991           wtf\n",
       "Length: 5992, dtype: object"
      ]
     },
     "execution_count": 21,
     "metadata": {},
     "output_type": "execute_result"
    }
   ],
   "source": [
    "#colocando as palavras dos tweets relevantes em uma serie pd\n",
    "tweets_relevantes = train.loc[train.Relevância == 1, : ]\n",
    "todos_tweets_relevantes = ''\n",
    "for e in tweets_relevantes.Treinamento:\n",
    "    todos_tweets_relevantes += e\n",
    "\n",
    "lista_tweets_relevantes = todos_tweets_relevantes.split()\n",
    "series_tweets_relevantes = pd.Series(lista_tweets_relevantes)\n",
    "series_tweets_relevantes"
   ]
  },
  {
   "cell_type": "code",
   "execution_count": 22,
   "metadata": {},
   "outputs": [],
   "source": [
    "#suavizacao de laplace\n",
    "palavras_desconhecidas = 1000000\n",
    "bonus = 2"
   ]
  },
  {
   "cell_type": "code",
   "execution_count": 9,
   "metadata": {
    "scrolled": true
   },
   "outputs": [
    {
     "data": {
      "text/plain": [
       "ipad                      0.000185\n",
       "pro                       0.000134\n",
       "o                         0.000132\n",
       "e                         0.000079\n",
       "que                       0.000069\n",
       "                            ...   \n",
       "hj                        0.000001\n",
       "https//tco/6b0nc0mnywo    0.000001\n",
       "chorartvshowzsx           0.000001\n",
       "acabou                    0.000001\n",
       "altos                     0.000001\n",
       "Length: 1480, dtype: float64"
      ]
     },
     "execution_count": 9,
     "metadata": {},
     "output_type": "execute_result"
    }
   ],
   "source": [
    "#frequencias relativas das palavras em tweets relevantes (com suavizacao de laplace)\n",
    "freq_tweets_relevantes = series_tweets_relevantes.value_counts() \n",
    "total_relevantes = sum(freq_tweets_relevantes) + palavras_desconhecidas*bonus\n",
    "\n",
    "freq_rel_tweets_relevantes = (freq_tweets_relevantes+bonus) / total_relevantes\n",
    "freq_rel_tweets_relevantes"
   ]
  },
  {
   "cell_type": "code",
   "execution_count": 10,
   "metadata": {
    "scrolled": true
   },
   "outputs": [
    {
     "data": {
      "text/plain": [
       "0                  beniiciojr\n",
       "1               elizabethrsic\n",
       "2                          ih\n",
       "3                       facil\n",
       "4                           é\n",
       "                ...          \n",
       "4750                      pro\n",
       "4751                      com\n",
       "4752                    apple\n",
       "4753                   pencil\n",
       "4754    https//tco/1fvxslvwgh\n",
       "Length: 4755, dtype: object"
      ]
     },
     "execution_count": 10,
     "metadata": {},
     "output_type": "execute_result"
    }
   ],
   "source": [
    "#colocando as palavras dos tweets irrelevantes em uma serie pd\n",
    "tweets_irrelevantes = train.loc[train.Relevância == 0, : ]\n",
    "todos_tweets_irrelevantes = ''\n",
    "for e in tweets_irrelevantes.Treinamento:\n",
    "    todos_tweets_irrelevantes += e\n",
    "\n",
    "lista_tweets_irrelevantes = todos_tweets_irrelevantes.split()\n",
    "series_tweets_irrelevantes = pd.Series(lista_tweets_irrelevantes)\n",
    "series_tweets_irrelevantes"
   ]
  },
  {
   "cell_type": "code",
   "execution_count": 11,
   "metadata": {
    "scrolled": true
   },
   "outputs": [
    {
     "data": {
      "text/plain": [
       "ipad               0.000112\n",
       "pro                0.000096\n",
       "e                  0.000076\n",
       "o                  0.000063\n",
       "de                 0.000059\n",
       "                     ...   \n",
       "irmão              0.000001\n",
       "proé               0.000001\n",
       "42°                0.000001\n",
       "desenharvc         0.000001\n",
       "nãolove_tripper    0.000001\n",
       "Length: 1418, dtype: float64"
      ]
     },
     "execution_count": 11,
     "metadata": {},
     "output_type": "execute_result"
    }
   ],
   "source": [
    "#frequencias relativas das palavras em tweets irrelevantes (com suavizacao de laplace)\n",
    "freq_tweets_irrelevantes = series_tweets_irrelevantes.value_counts() \n",
    "total_irrelevantes = sum(freq_tweets_irrelevantes) + palavras_desconhecidas*bonus\n",
    "\n",
    "freq_rel_tweets_irrelevantes = (freq_tweets_irrelevantes+bonus) / total_irrelevantes\n",
    "freq_rel_tweets_irrelevantes"
   ]
  },
  {
   "cell_type": "code",
   "execution_count": 12,
   "metadata": {
    "scrolled": true
   },
   "outputs": [
    {
     "data": {
      "text/plain": [
       "ipad               0.055183\n",
       "pro                0.042527\n",
       "o                  0.036013\n",
       "e                  0.028569\n",
       "de                 0.023078\n",
       "                     ...   \n",
       "pontoacabo         0.000093\n",
       "saiba              0.000093\n",
       "geraçãoa           0.000093\n",
       "pleaseeeeeeeeem    0.000093\n",
       "iphoneeee          0.000093\n",
       "Length: 2354, dtype: float64"
      ]
     },
     "execution_count": 12,
     "metadata": {},
     "output_type": "execute_result"
    }
   ],
   "source": [
    "################################## célula desnecessária\n",
    "#definindo um conjunto universo\n",
    "universo = todos_tweets_relevantes + todos_tweets_irrelevantes\n",
    "serie_universo = pd.Series(universo.split())\n",
    "freq_rel_universo = serie_universo.value_counts(True)\n",
    "freq_rel_universo\n",
    "##################################"
   ]
  },
  {
   "cell_type": "code",
   "execution_count": 23,
   "metadata": {},
   "outputs": [],
   "source": [
    "def classificador(tweet):\n",
    "    lista_palavras = tweet.split()\n",
    "    \n",
    "    P_tweet_dado_relevante = 1\n",
    "    P_tweet_dado_irrelevante = 1\n",
    "    \n",
    "    for palavra in lista_palavras:\n",
    "        if palavra in freq_rel_tweets_relevantes:\n",
    "            P_tweet_dado_relevante *= freq_rel_tweets_relevantes[palavra]\n",
    "        else:\n",
    "            P_tweet_dado_relevante *= bonus/total_relevantes\n",
    "            \n",
    "        if palavra in freq_rel_tweets_irrelevantes:\n",
    "            P_tweet_dado_irrelevante *= freq_rel_tweets_irrelevantes[palavra]\n",
    "        else:\n",
    "            P_tweet_dado_irrelevante *= bonus/total_irrelevantes\n",
    "            \n",
    "    P_relevante = len(tweets_relevantes)/len(train)\n",
    "    P_irrelevante = len(tweets_irrelevantes)/len(train)\n",
    "    \n",
    "    P_relevante_dado_tweet = P_tweet_dado_relevante * P_relevante\n",
    "    P_irrelevante_dado_tweet = P_tweet_dado_irrelevante * P_irrelevante\n",
    "    \n",
    "    \n",
    "    \n",
    "    if P_relevante_dado_tweet > P_irrelevante_dado_tweet:\n",
    "        diferenca = (P_relevante_dado_tweet-P_irrelevante_dado_tweet)\n",
    "        if diferenca > 10e-80:\n",
    "            return 5\n",
    "        elif diferenca <10e-200:\n",
    "            return 3\n",
    "        else:\n",
    "            return 4\n",
    "    else:\n",
    "        diferenca = (P_irrelevante_dado_tweet-P_relevante_dado_tweet)\n",
    "        if diferenca > 10e-80:\n",
    "            return 1\n",
    "        elif diferenca <10e-200:\n",
    "            return 3\n",
    "        else:\n",
    "            return 2"
   ]
  },
  {
   "cell_type": "markdown",
   "metadata": {},
   "source": [
    "___\n",
    "### Verificando a performance do Classificador\n",
    "\n",
    "Agora você deve testar o seu classificador com a base de Testes."
   ]
  },
  {
   "cell_type": "code",
   "execution_count": 24,
   "metadata": {
    "scrolled": true
   },
   "outputs": [
    {
     "data": {
      "text/html": [
       "<div>\n",
       "<style scoped>\n",
       "    .dataframe tbody tr th:only-of-type {\n",
       "        vertical-align: middle;\n",
       "    }\n",
       "\n",
       "    .dataframe tbody tr th {\n",
       "        vertical-align: top;\n",
       "    }\n",
       "\n",
       "    .dataframe thead th {\n",
       "        text-align: right;\n",
       "    }\n",
       "</style>\n",
       "<table border=\"1\" class=\"dataframe\">\n",
       "  <thead>\n",
       "    <tr style=\"text-align: right;\">\n",
       "      <th></th>\n",
       "      <th>Teste</th>\n",
       "      <th>Relevância</th>\n",
       "      <th>Classificador</th>\n",
       "    </tr>\n",
       "  </thead>\n",
       "  <tbody>\n",
       "    <tr>\n",
       "      <th>0</th>\n",
       "      <td>rt guiqis novo ipad air layout do ipad pro com...</td>\n",
       "      <td>1</td>\n",
       "      <td>muito relevante</td>\n",
       "    </tr>\n",
       "    <tr>\n",
       "      <th>1</th>\n",
       "      <td>novas cores do novo airpad air novo processado...</td>\n",
       "      <td>1</td>\n",
       "      <td>relevante</td>\n",
       "    </tr>\n",
       "    <tr>\n",
       "      <th>2</th>\n",
       "      <td>eu só quero um ipad pro</td>\n",
       "      <td>1</td>\n",
       "      <td>muito relevante</td>\n",
       "    </tr>\n",
       "    <tr>\n",
       "      <th>3</th>\n",
       "      <td>usbc estará presente no novo ipad airum ipad m...</td>\n",
       "      <td>1</td>\n",
       "      <td>relevante</td>\n",
       "    </tr>\n",
       "    <tr>\n",
       "      <th>4</th>\n",
       "      <td>o design é baseado no ipad pro de 2018 somente...</td>\n",
       "      <td>1</td>\n",
       "      <td>neutro</td>\n",
       "    </tr>\n",
       "    <tr>\n",
       "      <th>...</th>\n",
       "      <td>...</td>\n",
       "      <td>...</td>\n",
       "      <td>...</td>\n",
       "    </tr>\n",
       "    <tr>\n",
       "      <th>129</th>\n",
       "      <td>minha bamboo que tenho desde 2011 tá querendo ...</td>\n",
       "      <td>1</td>\n",
       "      <td>neutro</td>\n",
       "    </tr>\n",
       "    <tr>\n",
       "      <th>130</th>\n",
       "      <td>a capa pro meu ipad chegou aleluia não aguenta...</td>\n",
       "      <td>0</td>\n",
       "      <td>muito irrelevante</td>\n",
       "    </tr>\n",
       "    <tr>\n",
       "      <th>131</th>\n",
       "      <td>blogdoiphone compensa comprar o ipad pro ou va...</td>\n",
       "      <td>1</td>\n",
       "      <td>relevante</td>\n",
       "    </tr>\n",
       "    <tr>\n",
       "      <th>132</th>\n",
       "      <td>xandcasusao eu fui eu tava a minha era um pand...</td>\n",
       "      <td>0</td>\n",
       "      <td>relevante</td>\n",
       "    </tr>\n",
       "    <tr>\n",
       "      <th>133</th>\n",
       "      <td>alguém me dá um ipad pro</td>\n",
       "      <td>1</td>\n",
       "      <td>muito relevante</td>\n",
       "    </tr>\n",
       "  </tbody>\n",
       "</table>\n",
       "<p>134 rows × 3 columns</p>\n",
       "</div>"
      ],
      "text/plain": [
       "                                                 Teste  Relevância  \\\n",
       "0    rt guiqis novo ipad air layout do ipad pro com...           1   \n",
       "1    novas cores do novo airpad air novo processado...           1   \n",
       "2                              eu só quero um ipad pro           1   \n",
       "3    usbc estará presente no novo ipad airum ipad m...           1   \n",
       "4    o design é baseado no ipad pro de 2018 somente...           1   \n",
       "..                                                 ...         ...   \n",
       "129  minha bamboo que tenho desde 2011 tá querendo ...           1   \n",
       "130  a capa pro meu ipad chegou aleluia não aguenta...           0   \n",
       "131  blogdoiphone compensa comprar o ipad pro ou va...           1   \n",
       "132  xandcasusao eu fui eu tava a minha era um pand...           0   \n",
       "133                           alguém me dá um ipad pro           1   \n",
       "\n",
       "         Classificador  \n",
       "0      muito relevante  \n",
       "1            relevante  \n",
       "2      muito relevante  \n",
       "3            relevante  \n",
       "4               neutro  \n",
       "..                 ...  \n",
       "129             neutro  \n",
       "130  muito irrelevante  \n",
       "131          relevante  \n",
       "132          relevante  \n",
       "133    muito relevante  \n",
       "\n",
       "[134 rows x 3 columns]"
      ]
     },
     "execution_count": 24,
     "metadata": {},
     "output_type": "execute_result"
    }
   ],
   "source": [
    "#limpando os tweets\n",
    "test.Teste.astype(str)\n",
    "test.Teste = test.Teste.apply(cleanup)\n",
    "test"
   ]
  },
  {
   "cell_type": "code",
   "execution_count": 25,
   "metadata": {
    "scrolled": true
   },
   "outputs": [
    {
     "data": {
      "text/plain": [
       "0      5\n",
       "1      4\n",
       "2      5\n",
       "3      4\n",
       "4      3\n",
       "      ..\n",
       "129    3\n",
       "130    1\n",
       "131    4\n",
       "132    4\n",
       "133    5\n",
       "Length: 134, dtype: int64"
      ]
     },
     "execution_count": 25,
     "metadata": {},
     "output_type": "execute_result"
    }
   ],
   "source": [
    "lista_classificador = []\n",
    "for tweet in test.Teste:\n",
    "    lista_classificador.append(classificador(tweet))\n",
    "    \n",
    "series_classificador = pd.Series(lista_classificador)\n",
    "series_classificador"
   ]
  },
  {
   "cell_type": "code",
   "execution_count": 26,
   "metadata": {
    "scrolled": true
   },
   "outputs": [
    {
     "data": {
      "text/html": [
       "<div>\n",
       "<style scoped>\n",
       "    .dataframe tbody tr th:only-of-type {\n",
       "        vertical-align: middle;\n",
       "    }\n",
       "\n",
       "    .dataframe tbody tr th {\n",
       "        vertical-align: top;\n",
       "    }\n",
       "\n",
       "    .dataframe thead th {\n",
       "        text-align: right;\n",
       "    }\n",
       "</style>\n",
       "<table border=\"1\" class=\"dataframe\">\n",
       "  <thead>\n",
       "    <tr style=\"text-align: right;\">\n",
       "      <th></th>\n",
       "      <th>Teste</th>\n",
       "      <th>Relevância</th>\n",
       "      <th>Classificador</th>\n",
       "    </tr>\n",
       "  </thead>\n",
       "  <tbody>\n",
       "    <tr>\n",
       "      <th>0</th>\n",
       "      <td>rt guiqis novo ipad air layout do ipad pro com...</td>\n",
       "      <td>1</td>\n",
       "      <td>muito relevante</td>\n",
       "    </tr>\n",
       "    <tr>\n",
       "      <th>1</th>\n",
       "      <td>novas cores do novo airpad air novo processado...</td>\n",
       "      <td>1</td>\n",
       "      <td>relevante</td>\n",
       "    </tr>\n",
       "    <tr>\n",
       "      <th>2</th>\n",
       "      <td>eu só quero um ipad pro</td>\n",
       "      <td>1</td>\n",
       "      <td>muito relevante</td>\n",
       "    </tr>\n",
       "    <tr>\n",
       "      <th>3</th>\n",
       "      <td>usbc estará presente no novo ipad airum ipad m...</td>\n",
       "      <td>1</td>\n",
       "      <td>relevante</td>\n",
       "    </tr>\n",
       "    <tr>\n",
       "      <th>4</th>\n",
       "      <td>o design é baseado no ipad pro de 2018 somente...</td>\n",
       "      <td>1</td>\n",
       "      <td>neutro</td>\n",
       "    </tr>\n",
       "    <tr>\n",
       "      <th>...</th>\n",
       "      <td>...</td>\n",
       "      <td>...</td>\n",
       "      <td>...</td>\n",
       "    </tr>\n",
       "    <tr>\n",
       "      <th>129</th>\n",
       "      <td>minha bamboo que tenho desde 2011 tá querendo ...</td>\n",
       "      <td>1</td>\n",
       "      <td>neutro</td>\n",
       "    </tr>\n",
       "    <tr>\n",
       "      <th>130</th>\n",
       "      <td>a capa pro meu ipad chegou aleluia não aguenta...</td>\n",
       "      <td>0</td>\n",
       "      <td>muito irrelevante</td>\n",
       "    </tr>\n",
       "    <tr>\n",
       "      <th>131</th>\n",
       "      <td>blogdoiphone compensa comprar o ipad pro ou va...</td>\n",
       "      <td>1</td>\n",
       "      <td>relevante</td>\n",
       "    </tr>\n",
       "    <tr>\n",
       "      <th>132</th>\n",
       "      <td>xandcasusao eu fui eu tava a minha era um pand...</td>\n",
       "      <td>0</td>\n",
       "      <td>relevante</td>\n",
       "    </tr>\n",
       "    <tr>\n",
       "      <th>133</th>\n",
       "      <td>alguém me dá um ipad pro</td>\n",
       "      <td>1</td>\n",
       "      <td>muito relevante</td>\n",
       "    </tr>\n",
       "  </tbody>\n",
       "</table>\n",
       "<p>134 rows × 3 columns</p>\n",
       "</div>"
      ],
      "text/plain": [
       "                                                 Teste  Relevância  \\\n",
       "0    rt guiqis novo ipad air layout do ipad pro com...           1   \n",
       "1    novas cores do novo airpad air novo processado...           1   \n",
       "2                              eu só quero um ipad pro           1   \n",
       "3    usbc estará presente no novo ipad airum ipad m...           1   \n",
       "4    o design é baseado no ipad pro de 2018 somente...           1   \n",
       "..                                                 ...         ...   \n",
       "129  minha bamboo que tenho desde 2011 tá querendo ...           1   \n",
       "130  a capa pro meu ipad chegou aleluia não aguenta...           0   \n",
       "131  blogdoiphone compensa comprar o ipad pro ou va...           1   \n",
       "132  xandcasusao eu fui eu tava a minha era um pand...           0   \n",
       "133                           alguém me dá um ipad pro           1   \n",
       "\n",
       "         Classificador  \n",
       "0      muito relevante  \n",
       "1            relevante  \n",
       "2      muito relevante  \n",
       "3            relevante  \n",
       "4               neutro  \n",
       "..                 ...  \n",
       "129             neutro  \n",
       "130  muito irrelevante  \n",
       "131          relevante  \n",
       "132          relevante  \n",
       "133    muito relevante  \n",
       "\n",
       "[134 rows x 3 columns]"
      ]
     },
     "execution_count": 26,
     "metadata": {},
     "output_type": "execute_result"
    }
   ],
   "source": [
    "test['Classificador'] = series_classificador\n",
    "test['Classificador'] = test['Classificador'].astype('category')\n",
    "test['Classificador'].cat.categories = ['muito irrelevante','irrelevante','neutro','relevante','muito relevante']\n",
    "test"
   ]
  },
  {
   "cell_type": "code",
   "execution_count": 28,
   "metadata": {
    "scrolled": true
   },
   "outputs": [
    {
     "data": {
      "text/html": [
       "<div>\n",
       "<style scoped>\n",
       "    .dataframe tbody tr th:only-of-type {\n",
       "        vertical-align: middle;\n",
       "    }\n",
       "\n",
       "    .dataframe tbody tr th {\n",
       "        vertical-align: top;\n",
       "    }\n",
       "\n",
       "    .dataframe thead th {\n",
       "        text-align: right;\n",
       "    }\n",
       "</style>\n",
       "<table border=\"1\" class=\"dataframe\">\n",
       "  <thead>\n",
       "    <tr style=\"text-align: right;\">\n",
       "      <th>Classificador</th>\n",
       "      <th>muito irrelevante</th>\n",
       "      <th>irrelevante</th>\n",
       "      <th>neutro</th>\n",
       "      <th>relevante</th>\n",
       "      <th>muito relevante</th>\n",
       "    </tr>\n",
       "    <tr>\n",
       "      <th>Relevância</th>\n",
       "      <th></th>\n",
       "      <th></th>\n",
       "      <th></th>\n",
       "      <th></th>\n",
       "      <th></th>\n",
       "    </tr>\n",
       "  </thead>\n",
       "  <tbody>\n",
       "    <tr>\n",
       "      <th>0</th>\n",
       "      <td>3</td>\n",
       "      <td>10</td>\n",
       "      <td>10</td>\n",
       "      <td>22</td>\n",
       "      <td>12</td>\n",
       "    </tr>\n",
       "    <tr>\n",
       "      <th>1</th>\n",
       "      <td>1</td>\n",
       "      <td>0</td>\n",
       "      <td>9</td>\n",
       "      <td>39</td>\n",
       "      <td>28</td>\n",
       "    </tr>\n",
       "  </tbody>\n",
       "</table>\n",
       "</div>"
      ],
      "text/plain": [
       "Classificador  muito irrelevante  irrelevante  neutro  relevante  \\\n",
       "Relevância                                                         \n",
       "0                              3           10      10         22   \n",
       "1                              1            0       9         39   \n",
       "\n",
       "Classificador  muito relevante  \n",
       "Relevância                      \n",
       "0                           12  \n",
       "1                           28  "
      ]
     },
     "execution_count": 28,
     "metadata": {},
     "output_type": "execute_result"
    }
   ],
   "source": [
    "comparacao = pd.crosstab(test.Relevância, test.Classificador)\n",
    "comparacao"
   ]
  },
  {
   "cell_type": "markdown",
   "metadata": {},
   "source": [
    "___\n",
    "### Concluindo"
   ]
  },
  {
   "cell_type": "markdown",
   "metadata": {},
   "source": [
    "Boa parte dos tweets com relevância 0 surpreendentemente foi classificada como relevante ou muito relevante, já os tweets com relevância 1 seguiram de acordo com o esperado e apenas uma pequena porcentagem foi classificada como muito irrelevante."
   ]
  },
  {
   "cell_type": "markdown",
   "metadata": {},
   "source": [
    "Mensagens que apresentam sarcasmo são entendidas pelo classificador como o sentido literal das palavras e não seu oposto. Assim, tweets que desejam expressar algo irrelevante mas utiliza palavras relevantes são classificados como relevantes."
   ]
  },
  {
   "cell_type": "markdown",
   "metadata": {},
   "source": [
    "Este trabalho deve continuar sendo financiado pois, por enquanto, o classificador está funcionando apenas com uma base de treinamento e já apresenta bons resultados. Visto isso, planejamos aperfeiçoar e preparar o projeto para que seja capaz de alimentar sua base automaticamente usando o próprio classificador, aplicado a novos tweets."
   ]
  },
  {
   "cell_type": "markdown",
   "metadata": {},
   "source": [
    "___\n",
    "## Aperfeiçoamento:\n",
    "\n",
    "Os trabalhos vão evoluir em conceito dependendo da quantidade de itens avançados:\n",
    "\n",
    "* Limpar: \\n, :, \", ', (, ), etc SEM remover emojis\n",
    "* Corrigir separação de espaços entre palavras e emojis ou entre emojis e emojis\n",
    "* Propor outras limpezas e transformações que não afetem a qualidade da informação ou classificação\n",
    "* Criar categorias intermediárias de relevância baseadas na probabilidade: ex.: muito relevante, relevante, neutro, irrelevante, muito irrelevante (3 categorias: C, mais categorias conta para B)\n",
    "* Explicar por que não posso usar o próprio classificador para gerar mais amostras de treinamento\n",
    "* Propor diferentes cenários para Naïve Bayes fora do contexto do projeto\n",
    "* Sugerir e explicar melhorias reais com indicações concretas de como implementar (indicar como fazer e indicar material de pesquisa)\n",
    "* Montar um dashboard que realiza análise de sentimento e visualiza estes dados"
   ]
  },
  {
   "cell_type": "markdown",
   "metadata": {},
   "source": [
    "___\n",
    "## Referências"
   ]
  },
  {
   "cell_type": "markdown",
   "metadata": {},
   "source": [
    "[Naive Bayes and Text Classification](https://arxiv.org/pdf/1410.5329.pdf)  **Mais completo**\n",
    "\n",
    "[A practical explanation of a Naive Bayes Classifier](https://monkeylearn.com/blog/practical-explanation-naive-bayes-classifier/) **Mais simples**"
   ]
  },
  {
   "cell_type": "code",
   "execution_count": 18,
   "metadata": {},
   "outputs": [
    {
     "data": {
      "text/plain": [
       "5.00001"
      ]
     },
     "execution_count": 18,
     "metadata": {},
     "output_type": "execute_result"
    }
   ],
   "source": [
    "1e-5+5"
   ]
  }
 ],
 "metadata": {
  "kernelspec": {
   "display_name": "Python 3",
   "language": "python",
   "name": "python3"
  },
  "language_info": {
   "codemirror_mode": {
    "name": "ipython",
    "version": 3
   },
   "file_extension": ".py",
   "mimetype": "text/x-python",
   "name": "python",
   "nbconvert_exporter": "python",
   "pygments_lexer": "ipython3",
   "version": "3.7.6"
  }
 },
 "nbformat": 4,
 "nbformat_minor": 4
}
